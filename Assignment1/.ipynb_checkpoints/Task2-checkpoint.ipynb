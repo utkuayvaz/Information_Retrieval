{
 "cells": [
  {
   "cell_type": "markdown",
   "metadata": {},
   "source": [
    "# Task1"
   ]
  },
  {
   "cell_type": "markdown",
   "metadata": {},
   "source": [
    "## 1.1)"
   ]
  },
  {
   "cell_type": "markdown",
   "metadata": {},
   "source": [
    "$q = max(1,d^{p})$\n",
    "$\\newline$\n",
    "$\n",
    "    d= \n",
    "\\begin{cases}\n",
    "    q^{(1/p)},& \\text{if } q< 1\\\\\n",
    "    >=1,              & \\text{if} q=1\n",
    "\\end{cases}\n",
    "$"
   ]
  },
  {
   "cell_type": "markdown",
   "metadata": {},
   "source": [
    "## 1.2)"
   ]
  },
  {
   "cell_type": "markdown",
   "metadata": {},
   "source": [
    "$Pr(|X^1|\\leq 2.576)=0.99$\n",
    "$\\newline$\n",
    "$Pr(|X^p|_{\\infty}> 2.576)=1-Pr(|X^1|\\leq 2.576)^{p}$"
   ]
  },
  {
   "cell_type": "markdown",
   "metadata": {},
   "source": [
    "### For p=2\n",
    "$Pr(|X^p|_{\\infty}> 2.576)=0.01990000000000003$"
   ]
  },
  {
   "cell_type": "markdown",
   "metadata": {},
   "source": [
    "### For p=3\n",
    "$Pr(|X^p|_{\\infty}> 2.576)=0.029700999999999977$"
   ]
  },
  {
   "cell_type": "markdown",
   "metadata": {},
   "source": [
    "### For p=500\n",
    "$Pr(|X^p|_{\\infty}> 2.576)=0.9934295169575854$"
   ]
  },
  {
   "cell_type": "markdown",
   "metadata": {},
   "source": [
    "# Task2"
   ]
  },
  {
   "cell_type": "code",
   "execution_count": 1,
   "metadata": {},
   "outputs": [],
   "source": [
    "import numpy as np\n",
    "from tqdm.notebook import tqdm\n",
    "import matplotlib.pyplot as plt"
   ]
  },
  {
   "cell_type": "markdown",
   "metadata": {},
   "source": [
    "## Part1"
   ]
  },
  {
   "cell_type": "code",
   "execution_count": 2,
   "metadata": {},
   "outputs": [],
   "source": [
    "random_vectors=(np.random.rand(100,2)-0.5)*2"
   ]
  },
  {
   "cell_type": "markdown",
   "metadata": {},
   "source": [
    "## Part2"
   ]
  },
  {
   "cell_type": "code",
   "execution_count": 8,
   "metadata": {},
   "outputs": [],
   "source": [
    "norms=np.linalg.norm(random_vectors,axis=1)\n",
    "min_angle=np.zeros(100)\n",
    "for i in range(100):\n",
    "    main_vector=random_vectors[i,:]\n",
    "    xTy = main_vector@random_vectors.T\n",
    "    xnorm=norms[i]\n",
    "    norm_multi=xnorm*norms\n",
    "    \n",
    "    #Delete the column which was calculated with the same vector\n",
    "    xTy=np.delete(xTy, i, 0)\n",
    "    norm_multi=np.delete(norm_multi, i, 0)\n",
    "    \n",
    "    angles=np.arccos(xTy/norm_multi)\n",
    "    angles=180*angles/np.pi\n",
    "    min_angle[i]=np.min(angles)\n",
    "average_angle=np.mean(min_angle)"
   ]
  },
  {
   "cell_type": "markdown",
   "metadata": {},
   "source": [
    "# Part3"
   ]
  },
  {
   "cell_type": "code",
   "execution_count": 9,
   "metadata": {},
   "outputs": [],
   "source": [
    "def angleDimension(dimension,sample_number=100):\n",
    "    random_vectors=(np.random.rand(sample_number,dimension)-0.5)*2\n",
    "    norms=np.linalg.norm(random_vectors,axis=1)\n",
    "    min_angle=np.zeros(sample_number)\n",
    "    for i in range(sample_number):\n",
    "        main_vector=random_vectors[i,:]\n",
    "        xTy = main_vector@random_vectors.T\n",
    "        xnorm=norms[i]\n",
    "        norm_multi=xnorm*norms\n",
    "\n",
    "        #Delete the column which was calculated with the same vector\n",
    "        xTy=np.delete(xTy, i, 0)\n",
    "        norm_multi=np.delete(norm_multi, i, 0)\n",
    "\n",
    "        angles=np.arccos(xTy/norm_multi)\n",
    "        min_angle[i]=np.min(angles)\n",
    "    average_angle=np.mean(min_angle)\n",
    "    return average_angle"
   ]
  },
  {
   "cell_type": "code",
   "execution_count": 10,
   "metadata": {},
   "outputs": [
    {
     "data": {
      "application/vnd.jupyter.widget-view+json": {
       "model_id": "c6b6452dfcfa48c680ca44edc63ee882",
       "version_major": 2,
       "version_minor": 0
      },
      "text/plain": [
       "  0%|          | 0/1000 [00:00<?, ?it/s]"
      ]
     },
     "metadata": {},
     "output_type": "display_data"
    },
    {
     "data": {
      "image/png": "[encoded data removed]",
      "text/plain": [
       "<Figure size 432x288 with 1 Axes>"
      ]
     },
     "metadata": {
      "needs_background": "light"
     },
     "output_type": "display_data"
    }
   ],
   "source": [
    "average_minimums=[angleDimension(dimension) for dimension in tqdm(range(1,1001))]\n",
    "plt.plot(np.arange(1,1001),average_minimums)\n",
    "plt.xlabel(\"Number of Dimensions\")\n",
    "plt.ylabel('Average Minimum Angle')\n",
    "plt.show()"
   ]
  },
  {
   "cell_type": "markdown",
   "metadata": {},
   "source": [
    "# Part4"
   ]
  },
  {
   "cell_type": "code",
   "execution_count": 6,
   "metadata": {},
   "outputs": [
    {
     "data": {
      "application/vnd.jupyter.widget-view+json": {
       "model_id": "ee7d2cc2b1914ecc985023db275ed4cb",
       "version_major": 2,
       "version_minor": 0
      },
      "text/plain": [
       "  0%|          | 0/1000 [00:00<?, ?it/s]"
      ]
     },
     "metadata": {},
     "output_type": "display_data"
    },
    {
     "data": {
      "image/png": "[encoded data removed]",
      "text/plain": [
       "<Figure size 432x288 with 1 Axes>"
      ]
     },
     "metadata": {
      "needs_background": "light"
     },
     "output_type": "display_data"
    }
   ],
   "source": [
    "average_minimums=[angleDimension(dimension,sample_number=2) for dimension in tqdm(range(1,1001))]\n",
    "plt.plot(np.arange(1,1001),average_minimums)\n",
    "plt.xlabel(\"Number of Dimensions\")\n",
    "plt.ylabel('Average Minimum Angle')\n",
    "plt.show()"
   ]
  },
  {
   "cell_type": "markdown",
   "metadata": {},
   "source": [
    "From the graph we can see that when the number of dimensions increases the average Minimum angle interval is smaller and lower."
   ]
  },
  {
   "cell_type": "markdown",
   "metadata": {},
   "source": [
    "# Part5"
   ]
  },
  {
   "cell_type": "code",
   "execution_count": 7,
   "metadata": {},
   "outputs": [
    {
     "data": {
      "application/vnd.jupyter.widget-view+json": {
       "model_id": "182fe76d3cf74bd7afcab648cac67585",
       "version_major": 2,
       "version_minor": 0
      },
      "text/plain": [
       "  0%|          | 0/1000 [00:00<?, ?it/s]"
      ]
     },
     "metadata": {},
     "output_type": "display_data"
    },
    {
     "data": {
      "image/png": "[encoded data removed]",
      "text/plain": [
       "<Figure size 432x288 with 1 Axes>"
      ]
     },
     "metadata": {
      "needs_background": "light"
     },
     "output_type": "display_data"
    }
   ],
   "source": [
    "average_minimums=[angleDimension(dimension,sample_number=1000) for dimension in tqdm(range(1,1001))]\n",
    "plt.plot(np.arange(1,1001),average_minimums)\n",
    "plt.xlabel(\"Number of Dimensions\")\n",
    "plt.ylabel('Average Minimum Angle')\n",
    "plt.show()"
   ]
  },
  {
   "cell_type": "markdown",
   "metadata": {},
   "source": [
    "We can see that when we use more samples the evolution of Average Minimum Angle is much more stable and grows larger "
   ]
  },
  {
   "cell_type": "markdown",
   "metadata": {},
   "source": [
    "# Task3"
   ]
  },
  {
   "cell_type": "markdown",
   "metadata": {
    "tags": []
   },
   "source": [
    "## 3.1)\n",
    "Check the probability of X,Y\n",
    "$\\newline$\n",
    "If a probability table $\\rightarrow$ $Pr(X=1)+Pr(X=2)=1$ and $Pr(Y=3)+Pr(Y=2)+Pr(Y=1)=1$ \n",
    "$\\newline$\n",
    "$Pr(X=1)=Pr(X=0,Y=0)+Pr(X=0,Y=1)+Pr(X=0,Y=2)$\n",
    "$\\newline$\n",
    "$Pr(X=1)=0.02+0.26+0.13$\n",
    "$\\newline$\n",
    "$Pr(X=1)=0.41$\n",
    "$\\newline$\n",
    "$Pr(X=2)=Pr(X=1,Y=0)+Pr(X=1,Y=1)+Pr(X=1,Y=2)$\n",
    "$\\newline$\n",
    "$Pr(X=2)=0.4+0.14+0.05$\n",
    "$\\newline$\n",
    "$Pr(X=2)=0.59$\n",
    "$\\newline$\n",
    "$Pr(X=2)+Pr(X=1)=0.41+0.59$\n",
    "$\\newline$\n",
    "$Pr(X=2)+Pr(X=1)=1$\n",
    "$\\newline$\n",
    "$Pr(Y=1)=0.02+0.4$\n",
    "$\\newline$\n",
    "$Pr(Y=1)=0.42$\n",
    "$\\newline$\n",
    "$Pr(Y=2)=0.26+0.14$\n",
    "$\\newline$\n",
    "$Pr(Y=2)=0.4$\n",
    "$\\newline$\n",
    "$Pr(Y=3)=0.13+0.05$\n",
    "$\\newline$\n",
    "$Pr(Y=3)=0.18$\n",
    "$\\newline$\n",
    "$Pr(Y=1)+Pr(Y=2)+Pr(Y=3)=0.42+0.4+0.18$\n",
    "$\\newline$\n",
    "$Pr(Y=1)+Pr(Y=2)+Pr(Y=3)=1$"
   ]
  },
  {
   "cell_type": "markdown",
   "metadata": {},
   "source": [
    "## 3.2)\n",
    "$Pr(X=1|Y=3)=\\frac{Pr(X=1,Y=3)}{Pr(Y=3)}$\n",
    "$\\newline$\n",
    "$Pr(X=1,Y=3)=0.13$\n",
    "$\\newline$\n",
    "$Pr(Y=3)=0.18$\n",
    "$\\newline$\n",
    "$Pr(X=1|Y=3)=\\frac{0.13}{0.18}$\n",
    "$\\newline$\n",
    "$Pr(X=1|Y=3)=0.72222222222$\n",
    "$\\newline$\n",
    "$\\newline$\n",
    "$\\mathbb{E}_{Y|X=2}[Y]=Pr(Y=1|X=2)*1+Pr(Y=2|X=2)*2+Pr(Y=3|X=2)*3$\n",
    "$\\newline$\n",
    "$\\mathbb{E}_{Y|X=2}[Y]=\\frac{Pr(X=2,Y=1)}{Pr(X=2)}*1+\\frac{Pr(X=2,Y=2)}{Pr(X=2)}*2+\\frac{Pr(X=2,Y=3)}{Pr(X=2)}*3$\n",
    "$\\newline$\n",
    "$\\mathbb{E}_{Y|X=2}[Y]=\\frac{0.4}{0.59}*1+\\frac{0.14}{0.59}*2+\\frac{0.05}{0.59}*3$\n",
    "$\\newline$\n",
    "$\\mathbb{E}_{Y|X=2}[Y]=0.6779661016949153+0.47457627118644075+0.25423728813559326$\n",
    "$\\newline$\n",
    "$\\mathbb{E}_{Y|X=2}[Y]=1.4067796610169492$"
   ]
  },
  {
   "cell_type": "markdown",
   "metadata": {},
   "source": [
    "## 3.3)"
   ]
  },
  {
   "cell_type": "markdown",
   "metadata": {},
   "source": [
    "if it is a joint density function $\\rightarrow$ $\\int_{-\\infty}^{\\infty}\\int_{-\\infty}^{\\infty} p(x,y) \\ dxdy=1$\n",
    "$\\newline$\n",
    "For our case $\\int_{-\\infty}^{\\infty}\\int_{-\\infty}^{\\infty} p(x,y) \\ dxdy$=$\\int_0^{0.5}\\int_0^1 1 \\ dxdy$\n",
    "$\\newline$\n",
    "$\\int_0^{0.5}\\int_0^1 1 \\ dxdy=\\int_0^1 0.5 \\ dx$\n",
    "$\\newline$\n",
    "$\\int_0^1 0.5 \\ dx=0.5$\n",
    "$\\newline$\n",
    "This is not a joint density function!"
   ]
  },
  {
   "cell_type": "markdown",
   "metadata": {},
   "source": [
    "## 3.4)"
   ]
  },
  {
   "cell_type": "markdown",
   "metadata": {},
   "source": [
    "$p(x)=\\int_{0}^{\\infty} p(x,y) \\ dy$\n",
    "$\\newline$\n",
    "$p(y)=\\int_{0}^{y} p(x,y) \\ dx$\n",
    "$\\newline$\n",
    "$\\newline$\n",
    "$p(x)=\\int_{0}^{\\infty} p(x,y) \\ dy=\\int_{0}^{\\infty} 2\\exp(-x-y) \\ dy$\n",
    "$\\newline$\n",
    "$\\int_{0}^{\\infty} 2\\exp(-x-y) \\ dy=-2\\exp(-x-y)|_0^{\\infty}$\n",
    "$\\newline$\n",
    "$-2\\exp(-x-y)|_0^{\\infty}=0-(-2\\exp(-x))$\n",
    "$\\newline$\n",
    "$p(x)=2\\exp(-x)$\n",
    "$\\newline$\n",
    "$p(y)=\\int_{0}^{y} p(x,y) \\ dx$\n",
    "$\\newline$\n",
    "$\\int_{0}^{y} p(x,y) \\ dx=\\int_{0}^{y} 2\\exp(-x-y) \\ dx$\n",
    "$\\newline$\n",
    "$\\int_{0}^{y} 2\\exp(-x-y) \\ dx=-2\\exp(-x-y)|_0^{y}$\n",
    "$\\newline$\n",
    "$-2\\exp(-x-y)|_0^{y}=-2\\exp(-y)+2\\exp(-2y)$\n",
    "$\\newline$\n",
    "$p(y)=-2\\exp(-y)+2\\exp(-2y)$"
   ]
  },
  {
   "cell_type": "markdown",
   "metadata": {},
   "source": [
    "## 3.5)"
   ]
  },
  {
   "cell_type": "markdown",
   "metadata": {},
   "source": [
    "$Pr(X\\leq 2|Y=0.5)=\\frac{Pr(X\\leq 2,Y=0.5)}{Pr(X\\leq 3,Y=0.5)}$\n",
    "$\\newline$\n",
    "$\\frac{Pr(X\\leq 2,Y=0.5)}{Pr(X\\leq 3,Y=0.5)}=\\frac{\\int_{0}^{2} p(x,y) \\ dx|_{y=0.5}}{\\int_{0}^{3} p(x,y) \\ dx|_{y=0.5}}$\n",
    "$\\newline$\n",
    "$\\frac{\\int_{0}^{2} p(x,y) \\ dx|_{y=0.5}}{\\int_{0}^{3} p(x,y) \\ dx|_{y=0.5}}=\\frac{\\int_{0}^{2} 2x+2 \\ dx}{\\int_{0}^{3} 2x+2 \\ dx}$\n",
    "$\\newline$\n",
    "$\\frac{\\int_{0}^{2} 2x+2 \\ dx}{\\int_{0}^{3} 2x+2 \\ dx}=\\frac{ x^2+2x|_0^2} { x^2+2x|_0^3 }$\n",
    "$\\newline$\n",
    "$\\frac{ x^2+2x|_0^2} { x^2+2x|_0^3 }=\\frac{8} {15}$"
   ]
  },
  {
   "cell_type": "markdown",
   "metadata": {},
   "source": [
    "# Task4"
   ]
  },
  {
   "cell_type": "markdown",
   "metadata": {},
   "source": [
    "## 4.1)"
   ]
  },
  {
   "cell_type": "markdown",
   "metadata": {},
   "source": [
    "\n",
    "\n",
    "$\\mathbf{C} = \\mathbb{E}[(\\mathbf{X}-\\mathbb{E}[\\mathbf{X}])(\\mathbf{X}-\\mathbb{E}[\\mathbf{X}])^T]$\\\n",
    "$\\mathbf{C} = \\mathbb{E}((\\mathbf{X}-\\mathbb{E}[\\mathbf{X}])(\\mathbf{X}^T-\\mathbb{E}[\\mathbf{X}]^T))$\\\n",
    "$\\mathbf{C} = \\mathbb{E}(\\mathbf{XX}^T-\\mathbf{X}\\mathbb{E}[\\mathbf{X}]^T-\\mathbb{E}[\\mathbf{X}]\\mathbf{X}^T+\\mathbb{E}[\\mathbf{X}]\\mathbb{E}[\\mathbf{X}]^T)$\\\n",
    "$\\mathbf{C} = \\mathbb{E}(\\mathbf{XX}^T)-\\mathbb{E}(\\mathbf{X})\\mathbf{\\mu}^T-\\mathbf{\\mu}\\mathbb{E}(\\mathbf{X}^T)+\\mathbf{\\mu\\mu}^T$\\\n",
    "$\\mathbf{C} = \\mathbb{E}(\\mathbf{XX}^T) - \\mathbf{\\mu}\\mathbf{\\mu}^T-\\mathbf{\\mu}\\mathbf{\\mu}^T + \\mathbf{\\mu\\mu}^T $\\\n",
    "$\\mathbf{C} = \\mathbb{E}(\\mathbf{XX}^T) - \\mathbf{\\mu}\\mathbf{\\mu}^T$\n",
    "\n",
    "\n",
    "$\\mathbf{C}^T = \\mathbb{E}(\\mathbf{XX}^T)^T - (\\mathbf{\\mu}\\mathbf{\\mu}^T)^T$\\\n",
    "$\\mathbf{C}^T = \\mathbb{E}(\\mathbf({X^T})^TX^T) - \\mathbf({\\mu^T})^T\\mathbf{\\mu}^T $\\\n",
    "$\\mathbf{C}^T = \\mathbb{E}(\\mathbf{X}X^T) - \\mathbf{\\mu}\\mathbf{\\mu}^T$\n",
    "\n"
   ]
  },
  {
   "cell_type": "markdown",
   "metadata": {},
   "source": [
    "## 4.2)"
   ]
  },
  {
   "cell_type": "markdown",
   "metadata": {},
   "source": [
    "$\\mathbf{C} = \\mathbb{E}[(\\mathbf{X}-\\mathbb{E}[\\mathbf{X}])(\\mathbf{X}-\\mathbb{E}[\\mathbf{X}])^T]$\\\n",
    "$\\mathbf{x}^T\\mathbf{C}\\mathbf{x} = \\mathbf{x}^T \\mathbb{E}[(\\mathbf{X}-\\mathbb{E}[\\mathbf{X}])(\\mathbf{X}-\\mathbb{E}[\\mathbf{X}])^T] \\mathbf{x}$\\\n",
    "$\\mathbf{x}^T\\mathbf{C}\\mathbf{x} =  \\mathbb{E}[\\mathbf{x}^T(\\mathbf{X}-\\mathbb{E}[\\mathbf{X}])(\\mathbf{X}-\\mathbb{E}[\\mathbf{X}])^T\\mathbf{x}] $\\\n",
    "$\\mathbf{x}^T\\mathbf{C}\\mathbf{x} =  \\mathbb{E}[(\\mathbf{x}^T(\\mathbf{X}-\\mathbb{E}[\\mathbf{X}]))(\\mathbf{x}^T(\\mathbf{X}-\\mathbb{E}[\\mathbf{X}]))^T] $\\\n",
    "$\\mathbf{x}^T\\mathbf{C}\\mathbf{x} = \\mathbb{E}[\\mathbf{Y}\\mathbf{Y}^T]$\n",
    "$\\mathbf{x}^T\\mathbf{C}\\mathbf{x}\\geq 0 $ "
   ]
  }
 ],
 "metadata": {
  "kernelspec": {
   "display_name": "Python 3 (ipykernel)",
   "language": "python",
   "name": "python3"
  },
  "language_info": {
   "codemirror_mode": {
    "name": "ipython",
    "version": 3
   },
   "file_extension": ".py",
   "mimetype": "text/x-python",
   "name": "python",
   "nbconvert_exporter": "python",
   "pygments_lexer": "ipython3",
   "version": "3.8.10"
  }
 },
 "nbformat": 4,
 "nbformat_minor": 4
}
