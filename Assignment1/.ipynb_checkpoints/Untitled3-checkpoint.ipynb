{
 "cells": [
  {
   "cell_type": "markdown",
   "metadata": {},
   "source": [
    "# Task 4\n"
   ]
  },
  {
   "cell_type": "markdown",
   "metadata": {},
   "source": [
    "# Part 1"
   ]
  },
  {
   "cell_type": "markdown",
   "metadata": {},
   "source": [
    "\n",
    "\n",
    "$\\mathbf{C} = \\mathbb{E}[(\\mathbf{X}-\\mathbb{E}[\\mathbf{X}])(\\mathbf{X}-\\mathbb{E}[\\mathbf{X}])^T]$\\\n",
    "$\\mathbf{C} = \\mathbb{E}((\\mathbf{X}-\\mathbb{E}[\\mathbf{X}])(\\mathbf{X}^T-\\mathbb{E}[\\mathbf{X}]^T))$\\\n",
    "$\\mathbf{C} = \\mathbb{E}(\\mathbf{XX}^T-\\mathbf{X}\\mathbb{E}[\\mathbf{X}]^T-\\mathbb{E}[\\mathbf{X}]\\mathbf{X}^T+\\mathbb{E}[\\mathbf{X}]\\mathbb{E}[\\mathbf{X}]^T)$\\\n",
    "$\\mathbf{C} = \\mathbb{E}(\\mathbf{XX}^T)-\\mathbb{E}(\\mathbf{X})\\mathbf{\\mu}^T-\\mathbf{\\mu}\\mathbb{E}(\\mathbf{X}^T)+\\mathbf{\\mu\\mu}^T$\\\n",
    "$\\mathbf{C} = \\mathbb{E}(\\mathbf{XX}^T) - \\mathbf{\\mu}\\mathbf{\\mu}^T-\\mathbf{\\mu}\\mathbf{\\mu}^T + \\mathbf{\\mu\\mu}^T $\\\n",
    "$\\mathbf{C} = \\mathbb{E}(\\mathbf{XX}^T) - \\mathbf{\\mu}\\mathbf{\\mu}^T$\n",
    "\n",
    "\n",
    "$\\mathbf{C}^T = \\mathbb{E}(\\mathbf{XX}^T)^T - (\\mathbf{\\mu}\\mathbf{\\mu}^T)^T$\\\n",
    "$\\mathbf{C}^T = \\mathbb{E}(\\mathbf({X^T})^TX^T) - \\mathbf({\\mu^T})^T\\mathbf{\\mu}^T $\\\n",
    "$\\mathbf{C}^T = \\mathbb{E}(\\mathbf{X}X^T) - \\mathbf{\\mu}\\mathbf{\\mu}^T$\n",
    "\n"
   ]
  },
  {
   "cell_type": "markdown",
   "metadata": {},
   "source": [
    "# Part 2"
   ]
  },
  {
   "cell_type": "markdown",
   "metadata": {},
   "source": [
    "$\\mathbf{C} = \\mathbb{E}[(\\mathbf{X}-\\mathbb{E}[\\mathbf{X}])(\\mathbf{X}-\\mathbb{E}[\\mathbf{X}])^T]$\\\n",
    "$\\mathbf{x}^T\\mathbf{C}\\mathbf{x} = \\mathbf{x}^T \\mathbb{E}[(\\mathbf{X}-\\mathbb{E}[\\mathbf{X}])(\\mathbf{X}-\\mathbb{E}[\\mathbf{X}])^T] \\mathbf{x}$\\\n",
    "$\\mathbf{x}^T\\mathbf{C}\\mathbf{x} =  \\mathbb{E}[\\mathbf{x}^T(\\mathbf{X}-\\mathbb{E}[\\mathbf{X}])(\\mathbf{X}-\\mathbb{E}[\\mathbf{X}])^T\\mathbf{x}] $\\\n",
    "$\\mathbf{x}^T\\mathbf{C}\\mathbf{x} =  \\mathbb{E}[(\\mathbf{x}^T(\\mathbf{X}-\\mathbb{E}[\\mathbf{X}]))(\\mathbf{x}^T(\\mathbf{X}-\\mathbb{E}[\\mathbf{X}]))^T] $\\\n",
    "$\\mathbf{x}^T\\mathbf{C}\\mathbf{x} = \\mathbb{E}[\\mathbf{Y}\\mathbf{Y}^T]$\n",
    "$\\mathbf{x}^T\\mathbf{C}\\mathbf{x} = \\mathbb{E}[\\mathbf{Y}^2]\\geq 0 $ \n",
    "\n"
   ]
  },
  {
   "cell_type": "markdown",
   "metadata": {},
   "source": [
    "\n",
    "*   Since the sum of all probabilities is equal to 1 (0.4+0.14+0.05+0.02+0.26+0.13=1), it can be concluded that this is a probability table.\n",
    "\n",
    "\n",
    "\n",
    "\n",
    "*   $$P(X=1 \\mid Y=3) = \\frac{P(X=1 \\cap Y=3)}{P(Y=3)} = \\frac{0.13}{0.13 + 0.05} = \\frac{0.13}{0.18} \\approx 0.722$$\n",
    "\n",
    "$$\\mathbb{E}_{Y|X=2}[Y] = \\sum_{Y=1}^{3}YP(Y|X = 2)$$\\\n",
    "$$\\mathbb{E}_{Y|X=2}[Y] = \\sum_{Y=1}^{3}Y\\frac{P(Y \\cap X=2)}{P(X=2)}$$\\\n",
    "$$\\mathbb{E}_{Y|X=2}[Y] = \\frac{1\\cdot0.4 + 2\\cdot0.14 + 3\\cdot0.05}{0.59} \\approx 1.4068$$\n",
    "\n",
    "\n",
    "\n",
    "*   A joint probability function must satisfy the following condition:\n",
    "$$\\int_y \\int_x p(x,y)\\hspace{1pt}dxdy = 1$$\n",
    "\n",
    "  By using the given intervalls, we get the following result.\n",
    "$$\\int_0^{1/2}  \\int_0^1p(x,y) \\hspace{1pt} dxdy $$\\\n",
    "$$=\\int_0^{1/2}  \\int_0^1 1 \\hspace{1pt} dxdy $$\\\n",
    "$$= \\int_0^{1/2}  x\\mid_{0}^{1} \\hspace{1pt}dy $$\\\n",
    "$$= \\int_0^{1/2}  1 \\hspace{1pt}dy $$\\\n",
    "$$= \\int_0^{1/2}  y\\mid_{0}^{1/2} \\hspace{1pt}dy $$\\\n",
    "$$= \\frac{1}{2} $$\n",
    "\n",
    "  Since it is not equal to 1, the given function is not a joint probability function for two random variables.\n",
    "\n",
    "\n",
    "\n",
    "*  The marginal density function for $X$ can be given as follows: \n",
    "$$p_X(x) = \\int_{-\\infty}^{\\infty} p(x,y)\\hspace{1pt}dy$$\\\n",
    "$$= \\int_{0}^{\\infty} 2e^{-(x+y)}\\hspace{1pt}dy$$\n",
    "\n",
    "  Using the substitution method, the equation can be simplified:\n",
    "$$u=-x-y$$ \\\n",
    "$$\\frac{du}{dy} = -1$$ \\\n",
    "$$dy = -du$$ \\\n",
    "\n",
    "  Lower limit: $u = -x - 0 = -x$ \\\n",
    "  Upper limit: $u=-\\infty$\n",
    "\n",
    "  With new parameters:\n",
    "$$p_X(x) = -2\\int^{-\\infty}_{-x} e^u\\hspace{1pt}du$$\n",
    "\n",
    "$$p_X(x) = (-2e^u)\\biggm\\vert_{-x}^{-\\infty} $$\\\n",
    "$$p_X(x) = 2 \\hspace{1pt} e^{-x} $$\n",
    "\n",
    "  The same method applied for $Y$,\n",
    "\n",
    "$$p_Y(y) = \\int_{-\\infty}^{\\infty} p(x,y)\\hspace{1pt}dx$$\\\n",
    "$$= \\int_{0}^{y} 2e^{-(x+y)}\\hspace{1pt}dx$$\\\n",
    "$$dx = -du$$\n",
    "      \n",
    "Lower limit: $u = -0 - y = -y$ \\\n",
    "Upper limit: $u=-y - y = -2y$\n",
    "\n",
    "$$p_Y(y) = -2\\int^{-2y}_{-y} e^u\\hspace{1pt}du$$\n",
    "$$p_Y(y) = (-2e^u)\\biggm\\vert_{-y}^{-2y} $$\\\n",
    "$$p_Y(y) = (-2e^{-2y}) -(-2e^{-y})$$\\\n",
    "$$p_Y(y) = 2e^{-2y}(e^y - 1)$$\n",
    "\n",
    "\n",
    "\n",
    "* \n",
    "$$p(X\\le2 \\vert Y=\\frac{1}{2}) = \\int^2_0 \\frac{1}{15}(2x+2)\\hspace{1pt}dx$$\n",
    "\n",
    "$$p(X\\le2 \\vert Y=\\frac{1}{2}) = \\frac{2}{15} \\int^2_0 (x+1)\\hspace{1pt} dx$$\n",
    "\n",
    "$$p(X\\le2 \\vert Y=\\frac{1}{2}) = \\frac{2}{15} \\int^2_0x \\hspace{1pt} dx + \\frac{2}{15} \\int^2_0 1 \\hspace{1pt}dx$$\n",
    "\n",
    "$$p(X\\le2 \\vert Y=\\frac{1}{2}) = \\frac{x^2}{15} \\hspace{1pt}\\biggm\\vert^{2}_{0}  + \\frac{2x}{15} \\hspace{1pt}\\biggm\\vert^{2}_{0}$$\n",
    "\n",
    "$$p(X\\le2 \\vert Y=\\frac{1}{2}) = \\frac{8}{15} = 0.5333$$\n",
    "\n",
    "\n",
    "\n",
    "\n",
    "\n",
    "\n",
    "\n",
    "\n",
    "\n",
    "  \n",
    "\n",
    "\n",
    "\n",
    "\n",
    "\n",
    "\n",
    "\n",
    "\n"
   ]
  },
  {
   "cell_type": "code",
   "execution_count": null,
   "metadata": {},
   "outputs": [],
   "source": []
  }
 ],
 "metadata": {
  "kernelspec": {
   "display_name": "Python 3 (ipykernel)",
   "language": "python",
   "name": "python3"
  },
  "language_info": {
   "codemirror_mode": {
    "name": "ipython",
    "version": 3
   },
   "file_extension": ".py",
   "mimetype": "text/x-python",
   "name": "python",
   "nbconvert_exporter": "python",
   "pygments_lexer": "ipython3",
   "version": "3.8.10"
  }
 },
 "nbformat": 4,
 "nbformat_minor": 4
}
